{
 "cells": [
  {
   "cell_type": "code",
   "execution_count": 1,
   "id": "c83aca83-bc41-49cc-8e6f-6fe1b38165c5",
   "metadata": {},
   "outputs": [],
   "source": [
    "p = 20\n",
    "q = 20\n",
    "r = 20"
   ]
  },
  {
   "cell_type": "code",
   "execution_count": 2,
   "id": "90ae54da-7cc4-4101-9257-4a050d63533f",
   "metadata": {},
   "outputs": [
    {
     "data": {
      "text/plain": [
       "20"
      ]
     },
     "execution_count": 2,
     "metadata": {},
     "output_type": "execute_result"
    }
   ],
   "source": [
    "r"
   ]
  },
  {
   "cell_type": "code",
   "execution_count": 3,
   "id": "5b85fcf2-c644-405d-acf9-f118bfbc3129",
   "metadata": {},
   "outputs": [],
   "source": [
    "p = q = r = 20"
   ]
  },
  {
   "cell_type": "code",
   "execution_count": 4,
   "id": "00a60c20-d165-4d7b-a6ed-daf52d0bbf5e",
   "metadata": {},
   "outputs": [
    {
     "data": {
      "text/plain": [
       "20"
      ]
     },
     "execution_count": 4,
     "metadata": {},
     "output_type": "execute_result"
    }
   ],
   "source": [
    "p"
   ]
  },
  {
   "cell_type": "code",
   "execution_count": 5,
   "id": "49f2b91e-436a-4931-b984-92bbb1494637",
   "metadata": {},
   "outputs": [],
   "source": [
    "p1,q1,r1 = 20,30,40"
   ]
  },
  {
   "cell_type": "code",
   "execution_count": 6,
   "id": "f0fb7c4e-4553-46c8-a910-0b23966a8ee4",
   "metadata": {},
   "outputs": [
    {
     "data": {
      "text/plain": [
       "40"
      ]
     },
     "execution_count": 6,
     "metadata": {},
     "output_type": "execute_result"
    }
   ],
   "source": [
    "r1"
   ]
  },
  {
   "cell_type": "code",
   "execution_count": 7,
   "id": "52274b44-d8fb-4296-8edf-fc86417f9eb9",
   "metadata": {},
   "outputs": [
    {
     "data": {
      "text/plain": [
       "140726393646104"
      ]
     },
     "execution_count": 7,
     "metadata": {},
     "output_type": "execute_result"
    }
   ],
   "source": [
    "id(p)"
   ]
  },
  {
   "cell_type": "code",
   "execution_count": 8,
   "id": "fa3b3b29-82c9-4c9d-974a-8358d6bee841",
   "metadata": {},
   "outputs": [
    {
     "data": {
      "text/plain": [
       "8"
      ]
     },
     "execution_count": 8,
     "metadata": {},
     "output_type": "execute_result"
    }
   ],
   "source": [
    "s = 'nareshit'\n",
    "len(s)"
   ]
  },
  {
   "cell_type": "code",
   "execution_count": 9,
   "id": "82bce2e3-84aa-49e5-9778-e040129ce678",
   "metadata": {},
   "outputs": [
    {
     "data": {
      "text/plain": [
       "'n'"
      ]
     },
     "execution_count": 9,
     "metadata": {},
     "output_type": "execute_result"
    }
   ],
   "source": [
    "s[0]"
   ]
  },
  {
   "cell_type": "code",
   "execution_count": 10,
   "id": "ee84d253-b128-469b-bd59-b35ee58b9ca5",
   "metadata": {},
   "outputs": [
    {
     "data": {
      "text/plain": [
       "'s'"
      ]
     },
     "execution_count": 10,
     "metadata": {},
     "output_type": "execute_result"
    }
   ],
   "source": [
    "s[4]"
   ]
  },
  {
   "cell_type": "code",
   "execution_count": 11,
   "id": "08c7eacd-be62-44e1-a254-705ca3ae9036",
   "metadata": {},
   "outputs": [
    {
     "data": {
      "text/plain": [
       "'s'"
      ]
     },
     "execution_count": 11,
     "metadata": {},
     "output_type": "execute_result"
    }
   ],
   "source": [
    "s[-4]"
   ]
  },
  {
   "cell_type": "code",
   "execution_count": 12,
   "id": "d55524ba-00b7-4e72-b1c6-077cd9b2f27b",
   "metadata": {},
   "outputs": [
    {
     "data": {
      "text/plain": [
       "'h'"
      ]
     },
     "execution_count": 12,
     "metadata": {},
     "output_type": "execute_result"
    }
   ],
   "source": [
    "s[-3]"
   ]
  },
  {
   "cell_type": "code",
   "execution_count": 13,
   "id": "480c9f1e-1f59-42a8-8afc-18576c09301e",
   "metadata": {},
   "outputs": [
    {
     "data": {
      "text/plain": [
       "'nar'"
      ]
     },
     "execution_count": 13,
     "metadata": {},
     "output_type": "execute_result"
    }
   ],
   "source": [
    "s[0:3]"
   ]
  },
  {
   "cell_type": "code",
   "execution_count": 14,
   "id": "2b9d869e-713e-4fee-a421-b77e8b2a46e2",
   "metadata": {},
   "outputs": [
    {
     "data": {
      "text/plain": [
       "'t'"
      ]
     },
     "execution_count": 14,
     "metadata": {},
     "output_type": "execute_result"
    }
   ],
   "source": [
    "s[-1:]"
   ]
  },
  {
   "cell_type": "code",
   "execution_count": 15,
   "id": "47e3ed1e-c195-4282-b3d9-b698979bde92",
   "metadata": {},
   "outputs": [
    {
     "data": {
      "text/plain": [
       "'hello python'"
      ]
     },
     "execution_count": 15,
     "metadata": {},
     "output_type": "execute_result"
    }
   ],
   "source": [
    "s = 'hello python'\n",
    "s"
   ]
  },
  {
   "cell_type": "code",
   "execution_count": 16,
   "id": "7b7a8854-2a44-44c3-8b5a-d58447cc4f76",
   "metadata": {},
   "outputs": [
    {
     "data": {
      "text/plain": [
       "' python'"
      ]
     },
     "execution_count": 16,
     "metadata": {},
     "output_type": "execute_result"
    }
   ],
   "source": [
    "s[5 :]"
   ]
  },
  {
   "cell_type": "code",
   "execution_count": 17,
   "id": "b51c7595-7e9d-4626-ae39-d0710882a32f",
   "metadata": {},
   "outputs": [
    {
     "data": {
      "text/plain": [
       "'hello python'"
      ]
     },
     "execution_count": 17,
     "metadata": {},
     "output_type": "execute_result"
    }
   ],
   "source": [
    "s[:]"
   ]
  },
  {
   "cell_type": "code",
   "execution_count": 18,
   "id": "ae383800-98cc-4802-bdee-8683fc1e4dba",
   "metadata": {},
   "outputs": [
    {
     "data": {
      "text/plain": [
       "'hello pyt'"
      ]
     },
     "execution_count": 18,
     "metadata": {},
     "output_type": "execute_result"
    }
   ],
   "source": [
    "s[:-3]"
   ]
  },
  {
   "cell_type": "code",
   "execution_count": 19,
   "id": "b5c10e1f-4485-4af2-a702-6e43b7e04e7d",
   "metadata": {},
   "outputs": [
    {
     "data": {
      "text/plain": [
       "'ello'"
      ]
     },
     "execution_count": 19,
     "metadata": {},
     "output_type": "execute_result"
    }
   ],
   "source": [
    "s[1:5]"
   ]
  },
  {
   "cell_type": "code",
   "execution_count": 20,
   "id": "e136dd6b-c1d9-4c4f-8f25-fe023e87a16e",
   "metadata": {},
   "outputs": [
    {
     "data": {
      "text/plain": [
       "'hello'"
      ]
     },
     "execution_count": 20,
     "metadata": {},
     "output_type": "execute_result"
    }
   ],
   "source": [
    "s[0:5]"
   ]
  },
  {
   "cell_type": "code",
   "execution_count": 22,
   "id": "19259a32-3ceb-4088-bfce-dd21ceb3090c",
   "metadata": {},
   "outputs": [
    {
     "data": {
      "text/plain": [
       "''"
      ]
     },
     "execution_count": 22,
     "metadata": {},
     "output_type": "execute_result"
    }
   ],
   "source": [
    "s[-4:-5]"
   ]
  },
  {
   "cell_type": "code",
   "execution_count": 23,
   "id": "9ab228ab-2545-41cf-ac3c-4e15ec5816c2",
   "metadata": {},
   "outputs": [
    {
     "data": {
      "text/plain": [
       "'hello python'"
      ]
     },
     "execution_count": 23,
     "metadata": {},
     "output_type": "execute_result"
    }
   ],
   "source": [
    "s[::]"
   ]
  },
  {
   "cell_type": "code",
   "execution_count": 25,
   "id": "f25b0810-e1e9-43b8-9804-3a3f16eec1a1",
   "metadata": {},
   "outputs": [
    {
     "data": {
      "text/plain": [
       "'hello python'"
      ]
     },
     "execution_count": 25,
     "metadata": {},
     "output_type": "execute_result"
    }
   ],
   "source": [
    "s[:]"
   ]
  },
  {
   "cell_type": "code",
   "execution_count": 26,
   "id": "8552cbdf-d053-4d5f-86d9-18194c4212f2",
   "metadata": {},
   "outputs": [
    {
     "data": {
      "text/plain": [
       "'hello py'"
      ]
     },
     "execution_count": 26,
     "metadata": {},
     "output_type": "execute_result"
    }
   ],
   "source": [
    "s[:8]"
   ]
  },
  {
   "cell_type": "code",
   "execution_count": 27,
   "id": "1e5aa9a5-1eb5-46b7-908c-cbc3c89b2756",
   "metadata": {},
   "outputs": [
    {
     "data": {
      "text/plain": [
       "'npe'"
      ]
     },
     "execution_count": 27,
     "metadata": {},
     "output_type": "execute_result"
    }
   ],
   "source": [
    "s[::-5]"
   ]
  },
  {
   "cell_type": "code",
   "execution_count": 28,
   "id": "1ac8b783-0611-4faf-80de-97ea5cf9e6d4",
   "metadata": {},
   "outputs": [
    {
     "data": {
      "text/plain": [
       "'hello python'"
      ]
     },
     "execution_count": 28,
     "metadata": {},
     "output_type": "execute_result"
    }
   ],
   "source": [
    "s"
   ]
  },
  {
   "cell_type": "code",
   "execution_count": 29,
   "id": "38c3eb90-d8b9-43f9-8e06-84ca51b257fa",
   "metadata": {},
   "outputs": [
    {
     "data": {
      "text/plain": [
       "'lopt'"
      ]
     },
     "execution_count": 29,
     "metadata": {},
     "output_type": "execute_result"
    }
   ],
   "source": [
    "s[2:10:2]"
   ]
  },
  {
   "cell_type": "code",
   "execution_count": 30,
   "id": "d98ca60a-e41d-49db-a77a-e12fde2cfd55",
   "metadata": {},
   "outputs": [
    {
     "data": {
      "text/plain": [
       "'lph'"
      ]
     },
     "execution_count": 30,
     "metadata": {},
     "output_type": "execute_result"
    }
   ],
   "source": [
    "s[3:14:3]"
   ]
  },
  {
   "cell_type": "code",
   "execution_count": 31,
   "id": "adc472a8-ce08-43df-83c5-c1d88022f765",
   "metadata": {},
   "outputs": [
    {
     "data": {
      "text/plain": [
       "'new'"
      ]
     },
     "execution_count": 31,
     "metadata": {},
     "output_type": "execute_result"
    }
   ],
   "source": [
    "k = 'new'\n",
    "k"
   ]
  },
  {
   "cell_type": "code",
   "execution_count": 32,
   "id": "a6f598da-d500-42c3-b698-f48a611d4965",
   "metadata": {},
   "outputs": [],
   "source": [
    "k_ = 10"
   ]
  },
  {
   "cell_type": "code",
   "execution_count": 33,
   "id": "1c94ffc0-8d62-4504-88ad-8ae7a9e67bcd",
   "metadata": {},
   "outputs": [
    {
     "data": {
      "text/plain": [
       "10"
      ]
     },
     "execution_count": 33,
     "metadata": {},
     "output_type": "execute_result"
    }
   ],
   "source": [
    "k_"
   ]
  },
  {
   "cell_type": "code",
   "execution_count": 34,
   "id": "29692066-cf23-4208-894b-6cafa6bab16e",
   "metadata": {},
   "outputs": [
    {
     "data": {
      "text/plain": [
       "True"
      ]
     },
     "execution_count": 34,
     "metadata": {},
     "output_type": "execute_result"
    }
   ],
   "source": [
    "v = True\n",
    "v"
   ]
  },
  {
   "cell_type": "code",
   "execution_count": 35,
   "id": "5f0c3665-6878-4567-ac00-fc0c37b5e9c5",
   "metadata": {},
   "outputs": [
    {
     "data": {
      "text/plain": [
       "1"
      ]
     },
     "execution_count": 35,
     "metadata": {},
     "output_type": "execute_result"
    }
   ],
   "source": [
    "int(v)"
   ]
  },
  {
   "cell_type": "code",
   "execution_count": 36,
   "id": "f027ef7b-f484-4b81-bda9-dd6a6c80ada5",
   "metadata": {},
   "outputs": [
    {
     "data": {
      "text/plain": [
       "False"
      ]
     },
     "execution_count": 36,
     "metadata": {},
     "output_type": "execute_result"
    }
   ],
   "source": [
    "v = False\n",
    "v"
   ]
  },
  {
   "cell_type": "code",
   "execution_count": 37,
   "id": "1e29e9d9-a56f-4168-9088-d28c4a997163",
   "metadata": {},
   "outputs": [
    {
     "data": {
      "text/plain": [
       "0"
      ]
     },
     "execution_count": 37,
     "metadata": {},
     "output_type": "execute_result"
    }
   ],
   "source": [
    "int(v)"
   ]
  },
  {
   "cell_type": "code",
   "execution_count": 38,
   "id": "5509d099-76f3-4b2d-b30c-a86301c527d6",
   "metadata": {},
   "outputs": [
    {
     "data": {
      "text/plain": [
       "0.0"
      ]
     },
     "execution_count": 38,
     "metadata": {},
     "output_type": "execute_result"
    }
   ],
   "source": [
    "float(v)"
   ]
  },
  {
   "cell_type": "code",
   "execution_count": 39,
   "id": "14d7e24d-acf8-4961-a103-71cd14eee0f9",
   "metadata": {},
   "outputs": [
    {
     "data": {
      "text/plain": [
       "0j"
      ]
     },
     "execution_count": 39,
     "metadata": {},
     "output_type": "execute_result"
    }
   ],
   "source": [
    "complex(v)"
   ]
  },
  {
   "cell_type": "code",
   "execution_count": 40,
   "id": "50a3f727-5ba9-4c99-84b2-ed7c089a2bfa",
   "metadata": {},
   "outputs": [
    {
     "data": {
      "text/plain": [
       "False"
      ]
     },
     "execution_count": 40,
     "metadata": {},
     "output_type": "execute_result"
    }
   ],
   "source": [
    "bool(v)"
   ]
  },
  {
   "cell_type": "code",
   "execution_count": 41,
   "id": "7ee960fd-f6d7-4985-87f3-342eab4cbfdd",
   "metadata": {},
   "outputs": [
    {
     "data": {
      "text/plain": [
       "' for\\nmultiple line\\ncomment\\nwe use '"
      ]
     },
     "execution_count": 41,
     "metadata": {},
     "output_type": "execute_result"
    }
   ],
   "source": [
    "''' for\n",
    "multiple line\n",
    "comment\n",
    "we use '''"
   ]
  },
  {
   "cell_type": "code",
   "execution_count": 42,
   "id": "fbfb02bf-2bf4-4ba8-a882-aba328e31457",
   "metadata": {},
   "outputs": [
    {
     "name": "stdout",
     "output_type": "stream",
     "text": [
      "20\n",
      "10.4\n",
      "sai\n"
     ]
    }
   ],
   "source": [
    "p,q,r = 20,10.4, 'sai'\n",
    "print(p)\n",
    "print(q)\n",
    "print(r)"
   ]
  },
  {
   "cell_type": "code",
   "execution_count": 43,
   "id": "7dfab000-1ae4-4a52-b6d0-90a2db1028d4",
   "metadata": {},
   "outputs": [
    {
     "data": {
      "text/plain": [
       "(20, 10.4, 'sai')"
      ]
     },
     "execution_count": 43,
     "metadata": {},
     "output_type": "execute_result"
    }
   ],
   "source": [
    "p,q,r"
   ]
  },
  {
   "cell_type": "code",
   "execution_count": 44,
   "id": "6981c040-b464-4e4f-baa6-dcb8c6bb54de",
   "metadata": {},
   "outputs": [
    {
     "data": {
      "text/plain": [
       "(20, 3029661305712, '0x2c1671315c0')"
      ]
     },
     "execution_count": 44,
     "metadata": {},
     "output_type": "execute_result"
    }
   ],
   "source": [
    "p,id(q),hex(id(r))"
   ]
  },
  {
   "cell_type": "code",
   "execution_count": 46,
   "id": "f7375a16-c097-4ba5-8921-238f3c2ced93",
   "metadata": {},
   "outputs": [
    {
     "name": "stdout",
     "output_type": "stream",
     "text": [
      "32\n"
     ]
    },
    {
     "data": {
      "text/plain": [
       "' for integer 28\\nfor float 24\\nfor string 48\\nfor complex 32\\nfor bool also 28 as integer'"
      ]
     },
     "execution_count": 46,
     "metadata": {},
     "output_type": "execute_result"
    }
   ],
   "source": [
    "v = 12+14j\n",
    "import sys\n",
    "print(sys.getsizeof(v))  # shows size of dataobject based on datatype it will vary\n",
    "''' for integer 28\n",
    "for float 24\n",
    "for string 48\n",
    "for complex 32\n",
    "for bool also 28 as integer'''"
   ]
  },
  {
   "cell_type": "code",
   "execution_count": 49,
   "id": "2afb1e93-70cf-4cbd-975a-5402f944dfa6",
   "metadata": {},
   "outputs": [
    {
     "name": "stdout",
     "output_type": "stream",
     "text": [
      "True\n",
      "32\n"
     ]
    }
   ],
   "source": [
    "v1 = True\n",
    "type(v1)\n",
    "print(v1)\n",
    "print(sys.getsizeof(v))"
   ]
  },
  {
   "cell_type": "code",
   "execution_count": 50,
   "id": "a132a34b-9ef6-414c-baf5-8876aec3db2d",
   "metadata": {},
   "outputs": [
    {
     "name": "stdout",
     "output_type": "stream",
     "text": [
      "(12+34j) is  <class 'complex'>  or nt  True\n"
     ]
    }
   ],
   "source": [
    "v1 = 12+34J\n",
    "print(v1,\"is \", type(v1), \" or nt \", isinstance(v1, type(v1)))"
   ]
  },
  {
   "cell_type": "code",
   "execution_count": 51,
   "id": "86dfdb39-0701-4fec-9f91-d81f355682f8",
   "metadata": {},
   "outputs": [
    {
     "data": {
      "text/plain": [
       "True"
      ]
     },
     "execution_count": 51,
     "metadata": {},
     "output_type": "execute_result"
    }
   ],
   "source": [
    "b = True\n",
    "isinstance(b,bool)\n"
   ]
  },
  {
   "cell_type": "code",
   "execution_count": 52,
   "id": "b040592c-b4cd-4ff2-9477-3330c00cffc9",
   "metadata": {},
   "outputs": [
    {
     "data": {
      "text/plain": [
       "False"
      ]
     },
     "execution_count": 52,
     "metadata": {},
     "output_type": "execute_result"
    }
   ],
   "source": [
    "b = 12+34J\n",
    "isinstance(b,bool)"
   ]
  },
  {
   "cell_type": "code",
   "execution_count": 54,
   "id": "f2366171-ae1b-468c-a4ab-b92589f0a353",
   "metadata": {},
   "outputs": [
    {
     "name": "stdout",
     "output_type": "stream",
     "text": [
      "hello world\n"
     ]
    }
   ],
   "source": [
    "s = 'hello '\n",
    "p = 'world'\n",
    "r = s + p\n",
    "print(r)"
   ]
  },
  {
   "cell_type": "code",
   "execution_count": 55,
   "id": "45621327-354e-4c12-90fd-23eadfa97a80",
   "metadata": {},
   "outputs": [
    {
     "data": {
      "text/plain": [
       "str"
      ]
     },
     "execution_count": 55,
     "metadata": {},
     "output_type": "execute_result"
    }
   ],
   "source": [
    "s = '23'\n",
    "type(s)"
   ]
  },
  {
   "cell_type": "code",
   "execution_count": 56,
   "id": "d504ff02-fb15-4b8d-a047-e36dfd1d83eb",
   "metadata": {},
   "outputs": [
    {
     "name": "stdout",
     "output_type": "stream",
     "text": [
      "4\n"
     ]
    }
   ],
   "source": [
    "print(True * 4)"
   ]
  },
  {
   "cell_type": "code",
   "execution_count": 57,
   "id": "ddf83dac-fc55-4208-ab92-79f19b0e1695",
   "metadata": {},
   "outputs": [
    {
     "name": "stdout",
     "output_type": "stream",
     "text": [
      "(7,)\n"
     ]
    },
    {
     "data": {
      "text/plain": [
       "tuple"
      ]
     },
     "execution_count": 57,
     "metadata": {},
     "output_type": "execute_result"
    }
   ],
   "source": [
    "data = 7,\n",
    "print(data)\n",
    "type(data)"
   ]
  },
  {
   "cell_type": "code",
   "execution_count": 58,
   "id": "02510cfa-363b-4a98-9fa4-b3f10102ab92",
   "metadata": {},
   "outputs": [
    {
     "name": "stdout",
     "output_type": "stream",
     "text": [
      "{0, 1, 2, 3, 4, 5, 6, 7, 8}\n",
      "[0, 1, 2, 3, 4, 5, 6, 7, 8]\n",
      "(0, 1, 2, 3, 4, 5, 6, 7, 8)\n"
     ]
    }
   ],
   "source": [
    "print(set(range(9)))\n",
    "print(list(range(9)))\n",
    "print(tuple(range(9)))\n"
   ]
  },
  {
   "cell_type": "code",
   "execution_count": 59,
   "id": "2a084656-3cd4-4848-83bc-efbc61fa86e9",
   "metadata": {},
   "outputs": [
    {
     "data": {
      "text/plain": [
       "dict"
      ]
     },
     "execution_count": 59,
     "metadata": {},
     "output_type": "execute_result"
    }
   ],
   "source": [
    "data = {}\n",
    "type(data)"
   ]
  },
  {
   "cell_type": "code",
   "execution_count": 62,
   "id": "292a1775-01e9-45a8-909f-c9b49a110cbb",
   "metadata": {},
   "outputs": [],
   "source": [
    "b = 6 + 5j"
   ]
  },
  {
   "cell_type": "code",
   "execution_count": 63,
   "id": "e4ab6061-4ec4-4176-8396-2266d42f3bfd",
   "metadata": {},
   "outputs": [
    {
     "name": "stdout",
     "output_type": "stream",
     "text": [
      "6.0\n",
      "5.0\n"
     ]
    }
   ],
   "source": [
    "print(b.real)\n",
    "print(b.imag)"
   ]
  },
  {
   "cell_type": "code",
   "execution_count": 65,
   "id": "6c05eb9a-5ae1-4b49-9b61-ae5480ac5570",
   "metadata": {},
   "outputs": [
    {
     "name": "stdout",
     "output_type": "stream",
     "text": [
      "(10+14j)\n",
      "(2-4j)\n"
     ]
    }
   ],
   "source": [
    "d = 4+9J\n",
    "print(b+d)\n",
    "print(b-d)"
   ]
  },
  {
   "cell_type": "code",
   "execution_count": 66,
   "id": "e66b9fdb-876c-47d9-b65f-882e141beee5",
   "metadata": {},
   "outputs": [
    {
     "data": {
      "text/plain": [
       "9.848857801796104"
      ]
     },
     "execution_count": 66,
     "metadata": {},
     "output_type": "execute_result"
    }
   ],
   "source": [
    "abs(d)"
   ]
  },
  {
   "cell_type": "code",
   "execution_count": 67,
   "id": "a6f96001-ee91-430d-a679-fedaf0aae85c",
   "metadata": {},
   "outputs": [
    {
     "data": {
      "text/plain": [
       "7.810249675906654"
      ]
     },
     "execution_count": 67,
     "metadata": {},
     "output_type": "execute_result"
    }
   ],
   "source": [
    "abs(b)"
   ]
  },
  {
   "cell_type": "code",
   "execution_count": null,
   "id": "842e3081-6d74-4050-acc0-a396e30d30bc",
   "metadata": {},
   "outputs": [],
   "source": []
  },
  {
   "cell_type": "code",
   "execution_count": null,
   "id": "ddae9827-2c94-429a-a4de-89dfcee5ac61",
   "metadata": {},
   "outputs": [],
   "source": []
  },
  {
   "cell_type": "code",
   "execution_count": null,
   "id": "3cd72614-f8a5-478c-a729-702caf7989ac",
   "metadata": {},
   "outputs": [],
   "source": []
  }
 ],
 "metadata": {
  "kernelspec": {
   "display_name": "Python [conda env:base] *",
   "language": "python",
   "name": "conda-base-py"
  },
  "language_info": {
   "codemirror_mode": {
    "name": "ipython",
    "version": 3
   },
   "file_extension": ".py",
   "mimetype": "text/x-python",
   "name": "python",
   "nbconvert_exporter": "python",
   "pygments_lexer": "ipython3",
   "version": "3.12.7"
  }
 },
 "nbformat": 4,
 "nbformat_minor": 5
}
