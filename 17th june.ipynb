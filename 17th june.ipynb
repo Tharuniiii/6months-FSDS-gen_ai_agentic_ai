{
 "cells": [
  {
   "cell_type": "code",
   "execution_count": 1,
   "id": "818c8e07-86a5-4167-b255-256b47fa3c05",
   "metadata": {},
   "outputs": [],
   "source": [
    "v =5"
   ]
  },
  {
   "cell_type": "code",
   "execution_count": 2,
   "id": "2b45e698-102b-479c-bfa9-043c8bb4329a",
   "metadata": {},
   "outputs": [
    {
     "data": {
      "text/plain": [
       "5"
      ]
     },
     "execution_count": 2,
     "metadata": {},
     "output_type": "execute_result"
    }
   ],
   "source": [
    "v"
   ]
  },
  {
   "cell_type": "code",
   "execution_count": 3,
   "id": "3c4caed8-a4dc-4cd3-8427-bbcadecdc243",
   "metadata": {},
   "outputs": [
    {
     "data": {
      "text/plain": [
       "140726393645624"
      ]
     },
     "execution_count": 3,
     "metadata": {},
     "output_type": "execute_result"
    }
   ],
   "source": [
    "id(v)"
   ]
  },
  {
   "cell_type": "code",
   "execution_count": 4,
   "id": "8e8964ad-1ce4-45fd-a63c-23e27a72822b",
   "metadata": {},
   "outputs": [
    {
     "ename": "SyntaxError",
     "evalue": "invalid decimal literal (4287692018.py, line 1)",
     "output_type": "error",
     "traceback": [
      "\u001b[1;36m  Cell \u001b[1;32mIn[4], line 1\u001b[1;36m\u001b[0m\n\u001b[1;33m    1v=9\u001b[0m\n\u001b[1;37m    ^\u001b[0m\n\u001b[1;31mSyntaxError\u001b[0m\u001b[1;31m:\u001b[0m invalid decimal literal\n"
     ]
    }
   ],
   "source": [
    "1v=9"
   ]
  },
  {
   "cell_type": "code",
   "execution_count": 5,
   "id": "f395b2a0-4954-4a0c-8068-2929f53e3bdd",
   "metadata": {},
   "outputs": [],
   "source": [
    "v1=9"
   ]
  },
  {
   "cell_type": "code",
   "execution_count": 6,
   "id": "6d978199-0832-41f9-9af8-2750b9851cb7",
   "metadata": {},
   "outputs": [
    {
     "data": {
      "text/plain": [
       "9"
      ]
     },
     "execution_count": 6,
     "metadata": {},
     "output_type": "execute_result"
    }
   ],
   "source": [
    "v1"
   ]
  },
  {
   "cell_type": "code",
   "execution_count": 7,
   "id": "79be0c99-f310-4d7b-8e26-77ca07a56cd9",
   "metadata": {},
   "outputs": [
    {
     "ename": "TypeError",
     "evalue": "unsupported operand type(s) for @=: 'int' and 'int'",
     "output_type": "error",
     "traceback": [
      "\u001b[1;31m---------------------------------------------------------------------------\u001b[0m",
      "\u001b[1;31mTypeError\u001b[0m                                 Traceback (most recent call last)",
      "Cell \u001b[1;32mIn[7], line 1\u001b[0m\n\u001b[1;32m----> 1\u001b[0m v\u001b[38;5;241m@\u001b[39m\u001b[38;5;241m=\u001b[39m\u001b[38;5;241m9\u001b[39m\n",
      "\u001b[1;31mTypeError\u001b[0m: unsupported operand type(s) for @=: 'int' and 'int'"
     ]
    }
   ],
   "source": [
    "v@=9"
   ]
  },
  {
   "cell_type": "code",
   "execution_count": 8,
   "id": "bc79e83c-5893-4203-a868-c2e005df95ed",
   "metadata": {},
   "outputs": [],
   "source": [
    "v_=10"
   ]
  },
  {
   "cell_type": "code",
   "execution_count": 9,
   "id": "3d1ab146-8186-4eaa-8fdd-5c055f24c67d",
   "metadata": {},
   "outputs": [
    {
     "data": {
      "text/plain": [
       "10"
      ]
     },
     "execution_count": 9,
     "metadata": {},
     "output_type": "execute_result"
    }
   ],
   "source": [
    "v_"
   ]
  },
  {
   "cell_type": "code",
   "execution_count": 10,
   "id": "12a53e5d-d20c-41ab-9fea-b57c1c63abce",
   "metadata": {},
   "outputs": [
    {
     "data": {
      "text/plain": [
       "'{\"dataframes\": [], \"user\": \"Tharuni\"}'"
      ]
     },
     "execution_count": 10,
     "metadata": {},
     "output_type": "execute_result"
    }
   ],
   "source": [
    "_"
   ]
  },
  {
   "cell_type": "code",
   "execution_count": 11,
   "id": "e0e571b4-326a-4a31-8051-b7fbb5da3571",
   "metadata": {},
   "outputs": [
    {
     "ename": "NameError",
     "evalue": "name '_v' is not defined",
     "output_type": "error",
     "traceback": [
      "\u001b[1;31m---------------------------------------------------------------------------\u001b[0m",
      "\u001b[1;31mNameError\u001b[0m                                 Traceback (most recent call last)",
      "Cell \u001b[1;32mIn[11], line 1\u001b[0m\n\u001b[1;32m----> 1\u001b[0m _v\n",
      "\u001b[1;31mNameError\u001b[0m: name '_v' is not defined"
     ]
    }
   ],
   "source": [
    "_v"
   ]
  },
  {
   "cell_type": "code",
   "execution_count": 12,
   "id": "2b4c3ce4-f7e6-4ba0-9485-df8587e37f8a",
   "metadata": {},
   "outputs": [
    {
     "data": {
      "text/plain": [
       "'{\"dataframes\": [], \"user\": \"Tharuni\"}'"
      ]
     },
     "execution_count": 12,
     "metadata": {},
     "output_type": "execute_result"
    }
   ],
   "source": [
    "_"
   ]
  },
  {
   "cell_type": "code",
   "execution_count": 13,
   "id": "ae18e831-9200-4fbb-971b-b03fb8d68e17",
   "metadata": {},
   "outputs": [
    {
     "data": {
      "text/plain": [
       "10"
      ]
     },
     "execution_count": 13,
     "metadata": {},
     "output_type": "execute_result"
    }
   ],
   "source": [
    "v_"
   ]
  },
  {
   "cell_type": "code",
   "execution_count": 14,
   "id": "07df80a8-50b1-411c-81e0-9e741ffebf2d",
   "metadata": {},
   "outputs": [
    {
     "ename": "SyntaxError",
     "evalue": "invalid syntax (3963200833.py, line 1)",
     "output_type": "error",
     "traceback": [
      "\u001b[1;36m  Cell \u001b[1;32mIn[14], line 1\u001b[1;36m\u001b[0m\n\u001b[1;33m    if=10\u001b[0m\n\u001b[1;37m      ^\u001b[0m\n\u001b[1;31mSyntaxError\u001b[0m\u001b[1;31m:\u001b[0m invalid syntax\n"
     ]
    }
   ],
   "source": [
    "if=10"
   ]
  },
  {
   "cell_type": "code",
   "execution_count": 15,
   "id": "409b127d-9412-4888-ad2e-61fc4e13a8e0",
   "metadata": {},
   "outputs": [
    {
     "ename": "SyntaxError",
     "evalue": "invalid syntax (4272386062.py, line 1)",
     "output_type": "error",
     "traceback": [
      "\u001b[1;36m  Cell \u001b[1;32mIn[15], line 1\u001b[1;36m\u001b[0m\n\u001b[1;33m    else=10\u001b[0m\n\u001b[1;37m    ^\u001b[0m\n\u001b[1;31mSyntaxError\u001b[0m\u001b[1;31m:\u001b[0m invalid syntax\n"
     ]
    }
   ],
   "source": [
    "else=10"
   ]
  },
  {
   "cell_type": "code",
   "execution_count": 16,
   "id": "6c40330a-3336-4d41-9708-e93b76abdc8e",
   "metadata": {},
   "outputs": [
    {
     "data": {
      "text/plain": [
       "['False',\n",
       " 'None',\n",
       " 'True',\n",
       " 'and',\n",
       " 'as',\n",
       " 'assert',\n",
       " 'async',\n",
       " 'await',\n",
       " 'break',\n",
       " 'class',\n",
       " 'continue',\n",
       " 'def',\n",
       " 'del',\n",
       " 'elif',\n",
       " 'else',\n",
       " 'except',\n",
       " 'finally',\n",
       " 'for',\n",
       " 'from',\n",
       " 'global',\n",
       " 'if',\n",
       " 'import',\n",
       " 'in',\n",
       " 'is',\n",
       " 'lambda',\n",
       " 'nonlocal',\n",
       " 'not',\n",
       " 'or',\n",
       " 'pass',\n",
       " 'raise',\n",
       " 'return',\n",
       " 'try',\n",
       " 'while',\n",
       " 'with',\n",
       " 'yield']"
      ]
     },
     "execution_count": 16,
     "metadata": {},
     "output_type": "execute_result"
    }
   ],
   "source": [
    "import keyword\n",
    "keyword.kwlist"
   ]
  },
  {
   "cell_type": "code",
   "execution_count": 17,
   "id": "d9f83575-6479-4eaa-83ad-b30cd84a0f6d",
   "metadata": {},
   "outputs": [
    {
     "data": {
      "text/plain": [
       "35"
      ]
     },
     "execution_count": 17,
     "metadata": {},
     "output_type": "execute_result"
    }
   ],
   "source": [
    "len(keyword.kwlist)\n"
   ]
  },
  {
   "cell_type": "code",
   "execution_count": 18,
   "id": "e3aa14bd-d865-4ccc-91a9-99da7d2282d7",
   "metadata": {},
   "outputs": [],
   "source": [
    "prefix='py'\n",
    "suffix='thon'"
   ]
  },
  {
   "cell_type": "code",
   "execution_count": 19,
   "id": "d3270160-9817-404b-abac-6313cb4a4378",
   "metadata": {},
   "outputs": [
    {
     "data": {
      "text/plain": [
       "'py'"
      ]
     },
     "execution_count": 19,
     "metadata": {},
     "output_type": "execute_result"
    }
   ],
   "source": [
    "prefix"
   ]
  },
  {
   "cell_type": "code",
   "execution_count": 20,
   "id": "8b240c1b-e6fc-4899-9431-aedb5889bdc8",
   "metadata": {},
   "outputs": [
    {
     "data": {
      "text/plain": [
       "'thon'"
      ]
     },
     "execution_count": 20,
     "metadata": {},
     "output_type": "execute_result"
    }
   ],
   "source": [
    "suffix"
   ]
  },
  {
   "cell_type": "code",
   "execution_count": 21,
   "id": "a2f0a8c5-9235-4871-8449-fe3d51360c57",
   "metadata": {},
   "outputs": [
    {
     "data": {
      "text/plain": [
       "'python'"
      ]
     },
     "execution_count": 21,
     "metadata": {},
     "output_type": "execute_result"
    }
   ],
   "source": [
    "'py' + suffix"
   ]
  },
  {
   "cell_type": "code",
   "execution_count": 22,
   "id": "fd2be06e-3447-429c-a656-80e326fe81bb",
   "metadata": {},
   "outputs": [
    {
     "ename": "TypeError",
     "evalue": "can only concatenate str (not \"int\") to str",
     "output_type": "error",
     "traceback": [
      "\u001b[1;31m---------------------------------------------------------------------------\u001b[0m",
      "\u001b[1;31mTypeError\u001b[0m                                 Traceback (most recent call last)",
      "Cell \u001b[1;32mIn[22], line 1\u001b[0m\n\u001b[1;32m----> 1\u001b[0m _ \u001b[38;5;241m+\u001b[39m \u001b[38;5;241m20\u001b[39m\n",
      "\u001b[1;31mTypeError\u001b[0m: can only concatenate str (not \"int\") to str"
     ]
    }
   ],
   "source": [
    "_ + 20"
   ]
  },
  {
   "cell_type": "code",
   "execution_count": 23,
   "id": "82ac2af0-5e8d-42da-8bcd-5ccc0f316818",
   "metadata": {},
   "outputs": [
    {
     "ename": "NameError",
     "evalue": "name 'py' is not defined",
     "output_type": "error",
     "traceback": [
      "\u001b[1;31m---------------------------------------------------------------------------\u001b[0m",
      "\u001b[1;31mNameError\u001b[0m                                 Traceback (most recent call last)",
      "Cell \u001b[1;32mIn[23], line 1\u001b[0m\n\u001b[1;32m----> 1\u001b[0m _ \u001b[38;5;241m+\u001b[39m py\n",
      "\u001b[1;31mNameError\u001b[0m: name 'py' is not defined"
     ]
    }
   ],
   "source": [
    "tax =30.4 / 100\n",
    "price = 100.4\n",
    "price * "
   ]
  },
  {
   "cell_type": "code",
   "execution_count": null,
   "id": "1bee00f0-9c89-4797-9bf4-add40fa1c836",
   "metadata": {},
   "outputs": [],
   "source": []
  }
 ],
 "metadata": {
  "kernelspec": {
   "display_name": "Python [conda env:base] *",
   "language": "python",
   "name": "conda-base-py"
  },
  "language_info": {
   "codemirror_mode": {
    "name": "ipython",
    "version": 3
   },
   "file_extension": ".py",
   "mimetype": "text/x-python",
   "name": "python",
   "nbconvert_exporter": "python",
   "pygments_lexer": "ipython3",
   "version": "3.12.7"
  }
 },
 "nbformat": 4,
 "nbformat_minor": 5
}
