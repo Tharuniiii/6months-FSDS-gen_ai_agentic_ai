{
 "cells": [
  {
   "cell_type": "code",
   "execution_count": 1,
   "id": "b87303f6-6e12-4248-8bf9-d62e596f8c97",
   "metadata": {},
   "outputs": [],
   "source": [
    "tup1 = ()"
   ]
  },
  {
   "cell_type": "code",
   "execution_count": 2,
   "id": "1dbbac34-30fd-4645-8a29-5d3d498476e1",
   "metadata": {},
   "outputs": [
    {
     "data": {
      "text/plain": [
       "()"
      ]
     },
     "execution_count": 2,
     "metadata": {},
     "output_type": "execute_result"
    }
   ],
   "source": [
    "tup1"
   ]
  },
  {
   "cell_type": "code",
   "execution_count": 3,
   "id": "54ea4b3c-df7b-4768-88ac-75c73222f294",
   "metadata": {},
   "outputs": [
    {
     "data": {
      "text/plain": [
       "(10, 20, 30)"
      ]
     },
     "execution_count": 3,
     "metadata": {},
     "output_type": "execute_result"
    }
   ],
   "source": [
    "tup2 = (10, 20, 30)\n",
    "tup2"
   ]
  },
  {
   "cell_type": "code",
   "execution_count": 4,
   "id": "503a3733-560b-4ebe-98f1-977581b2f4f6",
   "metadata": {},
   "outputs": [
    {
     "data": {
      "text/plain": [
       "(10.77, 30.6, 60.8)"
      ]
     },
     "execution_count": 4,
     "metadata": {},
     "output_type": "execute_result"
    }
   ],
   "source": [
    "tup3 = (10.77, 30.6, 60.80)\n",
    "tup3"
   ]
  },
  {
   "cell_type": "code",
   "execution_count": 5,
   "id": "02ff758c-d446-4889-a0b2-9e4ce1b57a8c",
   "metadata": {},
   "outputs": [
    {
     "data": {
      "text/plain": [
       "('one', 'two', 'three')"
      ]
     },
     "execution_count": 5,
     "metadata": {},
     "output_type": "execute_result"
    }
   ],
   "source": [
    "tup4 = ('one', 'two', 'three')\n",
    "tup4"
   ]
  },
  {
   "cell_type": "code",
   "execution_count": 6,
   "id": "18b30577-3bf5-49dc-a52a-654746d3b26f",
   "metadata": {},
   "outputs": [],
   "source": [
    "tup5 = ('asif', 25, (50, 100))"
   ]
  },
  {
   "cell_type": "code",
   "execution_count": 7,
   "id": "12893efc-18bc-48e4-920a-524b1ce8ee87",
   "metadata": {},
   "outputs": [
    {
     "data": {
      "text/plain": [
       "('asif', 25, (50, 100))"
      ]
     },
     "execution_count": 7,
     "metadata": {},
     "output_type": "execute_result"
    }
   ],
   "source": [
    "tup5"
   ]
  },
  {
   "cell_type": "code",
   "execution_count": 8,
   "id": "b80d3538-20d9-41d5-bc15-ba7b5dbe98c3",
   "metadata": {},
   "outputs": [
    {
     "data": {
      "text/plain": [
       "(100, 'Asif', 17.64)"
      ]
     },
     "execution_count": 8,
     "metadata": {},
     "output_type": "execute_result"
    }
   ],
   "source": [
    "tup6 = (100, 'Asif', 17.64)\n",
    "tup6"
   ]
  },
  {
   "cell_type": "code",
   "execution_count": 9,
   "id": "a941de76-b7b4-4a95-a06d-e7e8c4655043",
   "metadata": {},
   "outputs": [
    {
     "data": {
      "text/plain": [
       "3"
      ]
     },
     "execution_count": 9,
     "metadata": {},
     "output_type": "execute_result"
    }
   ],
   "source": [
    "len(tup6)"
   ]
  },
  {
   "cell_type": "markdown",
   "id": "6fc83836-c5af-4582-8a54-71bb84c2527a",
   "metadata": {},
   "source": [
    "#INDEXING"
   ]
  },
  {
   "cell_type": "code",
   "execution_count": 10,
   "id": "96398113-0a54-4482-a278-d8bd486e3c19",
   "metadata": {},
   "outputs": [
    {
     "data": {
      "text/plain": [
       "10"
      ]
     },
     "execution_count": 10,
     "metadata": {},
     "output_type": "execute_result"
    }
   ],
   "source": [
    "tup2[0]"
   ]
  },
  {
   "cell_type": "code",
   "execution_count": 12,
   "id": "01be4d14-d094-43bf-9dc4-7e09b8fdb456",
   "metadata": {},
   "outputs": [
    {
     "data": {
      "text/plain": [
       "'three'"
      ]
     },
     "execution_count": 12,
     "metadata": {},
     "output_type": "execute_result"
    }
   ],
   "source": [
    "tup4[2]"
   ]
  },
  {
   "cell_type": "code",
   "execution_count": 13,
   "id": "a85574ac-0d4b-40c9-b21e-806ad0ff30f2",
   "metadata": {},
   "outputs": [
    {
     "data": {
      "text/plain": [
       "'o'"
      ]
     },
     "execution_count": 13,
     "metadata": {},
     "output_type": "execute_result"
    }
   ],
   "source": [
    "tup4[0][0]"
   ]
  },
  {
   "cell_type": "code",
   "execution_count": 14,
   "id": "3c40674a-1ffa-4742-9e21-bd91b279d140",
   "metadata": {},
   "outputs": [
    {
     "data": {
      "text/plain": [
       "'three'"
      ]
     },
     "execution_count": 14,
     "metadata": {},
     "output_type": "execute_result"
    }
   ],
   "source": [
    "tup4[-1]"
   ]
  },
  {
   "cell_type": "code",
   "execution_count": 15,
   "id": "b07022a3-19c6-494b-baad-4d8c1f0a90c8",
   "metadata": {},
   "outputs": [
    {
     "data": {
      "text/plain": [
       "(50, 100)"
      ]
     },
     "execution_count": 15,
     "metadata": {},
     "output_type": "execute_result"
    }
   ],
   "source": [
    "tup5[-1]"
   ]
  },
  {
   "cell_type": "markdown",
   "id": "2c4c091f-6133-47e1-b0e2-3900ef53df52",
   "metadata": {},
   "source": [
    "#tuple slicing"
   ]
  },
  {
   "cell_type": "code",
   "execution_count": 16,
   "id": "356e2d64-c994-4b90-be21-662d9d445375",
   "metadata": {},
   "outputs": [
    {
     "data": {
      "text/plain": [
       "('one', 'two', 'three', 'four')"
      ]
     },
     "execution_count": 16,
     "metadata": {},
     "output_type": "execute_result"
    }
   ],
   "source": [
    "mytuple = ('one', 'two', 'three' , 'four')\n",
    "mytuple"
   ]
  },
  {
   "cell_type": "code",
   "execution_count": 17,
   "id": "b3824dbb-9a4b-4021-bf9a-4e1fd93786f7",
   "metadata": {},
   "outputs": [
    {
     "data": {
      "text/plain": [
       "('one', 'two', 'three')"
      ]
     },
     "execution_count": 17,
     "metadata": {},
     "output_type": "execute_result"
    }
   ],
   "source": [
    "mytuple[0:3]"
   ]
  },
  {
   "cell_type": "code",
   "execution_count": 18,
   "id": "65b220ef-2590-446b-8059-5a8483eeb0d0",
   "metadata": {},
   "outputs": [
    {
     "data": {
      "text/plain": [
       "('one', 'two')"
      ]
     },
     "execution_count": 18,
     "metadata": {},
     "output_type": "execute_result"
    }
   ],
   "source": [
    "mytuple[0:2]"
   ]
  },
  {
   "cell_type": "code",
   "execution_count": 19,
   "id": "79cb6a0f-5a96-4485-8611-bf589880242a",
   "metadata": {},
   "outputs": [
    {
     "data": {
      "text/plain": [
       "('one', 'two', 'three')"
      ]
     },
     "execution_count": 19,
     "metadata": {},
     "output_type": "execute_result"
    }
   ],
   "source": [
    "mytuple[:3]"
   ]
  },
  {
   "cell_type": "code",
   "execution_count": 20,
   "id": "12278575-e822-4a3b-ab9c-04558c66cea3",
   "metadata": {},
   "outputs": [
    {
     "data": {
      "text/plain": [
       "('one', 'two')"
      ]
     },
     "execution_count": 20,
     "metadata": {},
     "output_type": "execute_result"
    }
   ],
   "source": [
    "mytuple[:2]"
   ]
  },
  {
   "cell_type": "code",
   "execution_count": 21,
   "id": "6f4e66a7-f84b-4ec1-838c-d5a66b4757b8",
   "metadata": {},
   "outputs": [
    {
     "data": {
      "text/plain": [
       "('three', 'four')"
      ]
     },
     "execution_count": 21,
     "metadata": {},
     "output_type": "execute_result"
    }
   ],
   "source": [
    "mytuple[-2:]"
   ]
  },
  {
   "cell_type": "code",
   "execution_count": 22,
   "id": "b1f32a59-56b0-45ab-ae19-17ec732d2289",
   "metadata": {},
   "outputs": [
    {
     "data": {
      "text/plain": [
       "('two', 'three', 'four')"
      ]
     },
     "execution_count": 22,
     "metadata": {},
     "output_type": "execute_result"
    }
   ],
   "source": [
    "mytuple[-3:]"
   ]
  },
  {
   "cell_type": "code",
   "execution_count": 23,
   "id": "cc14f0fb-69c3-4f2a-b589-40d4308a0036",
   "metadata": {},
   "outputs": [
    {
     "data": {
      "text/plain": [
       "('one', 'two', 'three', 'four')"
      ]
     },
     "execution_count": 23,
     "metadata": {},
     "output_type": "execute_result"
    }
   ],
   "source": [
    "mytuple[:]"
   ]
  },
  {
   "cell_type": "markdown",
   "id": "105b75c7-146d-4dd8-b1d2-a413c441002b",
   "metadata": {},
   "source": [
    "#remove and changes"
   ]
  },
  {
   "cell_type": "code",
   "execution_count": 24,
   "id": "e0591627-6a15-4dcc-8335-7d86d6eba6aa",
   "metadata": {},
   "outputs": [
    {
     "data": {
      "text/plain": [
       "('one', 'two', 'three', 'four')"
      ]
     },
     "execution_count": 24,
     "metadata": {},
     "output_type": "execute_result"
    }
   ],
   "source": [
    "mytuple"
   ]
  },
  {
   "cell_type": "code",
   "execution_count": 25,
   "id": "63b62de3-c42b-4b76-a193-fee2561a808d",
   "metadata": {},
   "outputs": [
    {
     "ename": "TypeError",
     "evalue": "'tuple' object doesn't support item deletion",
     "output_type": "error",
     "traceback": [
      "\u001b[1;31m---------------------------------------------------------------------------\u001b[0m",
      "\u001b[1;31mTypeError\u001b[0m                                 Traceback (most recent call last)",
      "Cell \u001b[1;32mIn[25], line 1\u001b[0m\n\u001b[1;32m----> 1\u001b[0m \u001b[38;5;28;01mdel\u001b[39;00m mytuple[\u001b[38;5;241m0\u001b[39m]\n",
      "\u001b[1;31mTypeError\u001b[0m: 'tuple' object doesn't support item deletion"
     ]
    }
   ],
   "source": [
    "del mytuple[0]"
   ]
  },
  {
   "cell_type": "code",
   "execution_count": 26,
   "id": "6ec1068e-14c2-42ce-8495-e05d05967b63",
   "metadata": {},
   "outputs": [],
   "source": [
    "del mytuple"
   ]
  },
  {
   "cell_type": "code",
   "execution_count": null,
   "id": "e44dfabb-0b2c-46cd-aecf-87343e1cf7f8",
   "metadata": {},
   "outputs": [],
   "source": [
    "#loop through tuple"
   ]
  },
  {
   "cell_type": "code",
   "execution_count": 28,
   "id": "cb440b74-2d68-47c3-91f9-02a6107e9f2d",
   "metadata": {},
   "outputs": [
    {
     "data": {
      "text/plain": [
       "('one', 'two', 'three', 'four')"
      ]
     },
     "execution_count": 28,
     "metadata": {},
     "output_type": "execute_result"
    }
   ],
   "source": [
    "mytuple = ('one', 'two', 'three' , 'four')\n",
    "mytuple"
   ]
  },
  {
   "cell_type": "code",
   "execution_count": 29,
   "id": "c225a054-2bac-4817-aa0b-ed6742f061e0",
   "metadata": {},
   "outputs": [
    {
     "name": "stdout",
     "output_type": "stream",
     "text": [
      "one\n",
      "two\n",
      "three\n",
      "four\n"
     ]
    }
   ],
   "source": [
    "for i in mytuple:\n",
    "    print(i)"
   ]
  },
  {
   "cell_type": "code",
   "execution_count": 30,
   "id": "d4ad3dbd-8462-4bb4-aafa-cbb4738af078",
   "metadata": {},
   "outputs": [
    {
     "name": "stdout",
     "output_type": "stream",
     "text": [
      "(0, 'one')\n",
      "(1, 'two')\n",
      "(2, 'three')\n",
      "(3, 'four')\n"
     ]
    }
   ],
   "source": [
    "for i in enumerate(mytuple):\n",
    "    print(i)"
   ]
  },
  {
   "cell_type": "markdown",
   "id": "3035711e-6703-4df7-82ba-798a69a7c142",
   "metadata": {},
   "source": [
    "#TUPLE MEMBERSHIP"
   ]
  },
  {
   "cell_type": "code",
   "execution_count": 31,
   "id": "1cb67b54-76c3-4bb3-8360-8bda2d0148a8",
   "metadata": {},
   "outputs": [
    {
     "data": {
      "text/plain": [
       "('one', 'two', 'three', 'four')"
      ]
     },
     "execution_count": 31,
     "metadata": {},
     "output_type": "execute_result"
    }
   ],
   "source": [
    "mytuple"
   ]
  },
  {
   "cell_type": "code",
   "execution_count": 32,
   "id": "13c9b902-7059-4e94-9a55-f81308e5e8ed",
   "metadata": {},
   "outputs": [
    {
     "data": {
      "text/plain": [
       "True"
      ]
     },
     "execution_count": 32,
     "metadata": {},
     "output_type": "execute_result"
    }
   ],
   "source": [
    "'one' in mytuple"
   ]
  },
  {
   "cell_type": "code",
   "execution_count": 33,
   "id": "b48ef78c-ab72-44f4-a768-62360535ddee",
   "metadata": {},
   "outputs": [
    {
     "data": {
      "text/plain": [
       "False"
      ]
     },
     "execution_count": 33,
     "metadata": {},
     "output_type": "execute_result"
    }
   ],
   "source": [
    "'ten' in mytuple"
   ]
  },
  {
   "cell_type": "code",
   "execution_count": 34,
   "id": "4103705e-618f-4ea9-b868-6a3ee8b80ad3",
   "metadata": {},
   "outputs": [
    {
     "name": "stdout",
     "output_type": "stream",
     "text": [
      "three is present in mytuple\n"
     ]
    }
   ],
   "source": [
    "if 'three' in mytuple:\n",
    "    print('three is present in mytuple')\n",
    "else:\n",
    "    print('three is not present in mytuple')"
   ]
  },
  {
   "cell_type": "code",
   "execution_count": 35,
   "id": "d7220aed-32ae-4f65-a43a-18e220fb836f",
   "metadata": {},
   "outputs": [
    {
     "name": "stdout",
     "output_type": "stream",
     "text": [
      "eleven is not present in mytuple\n"
     ]
    }
   ],
   "source": [
    "if 'eleven' in mytuple:\n",
    "    print('eleven is present in mytuple')\n",
    "else:\n",
    "    print('eleven is not present in mytuple')"
   ]
  },
  {
   "cell_type": "markdown",
   "id": "bae4f9ef-61fb-4b47-9914-fecaa4cac927",
   "metadata": {},
   "source": [
    "#index position"
   ]
  },
  {
   "cell_type": "code",
   "execution_count": 36,
   "id": "5a844ccb-f544-41c9-a209-d570942f2b5f",
   "metadata": {},
   "outputs": [
    {
     "data": {
      "text/plain": [
       "('one', 'two', 'three', 'four')"
      ]
     },
     "execution_count": 36,
     "metadata": {},
     "output_type": "execute_result"
    }
   ],
   "source": [
    "mytuple"
   ]
  },
  {
   "cell_type": "code",
   "execution_count": 37,
   "id": "82b7bd34-8a71-411d-a4be-4185ed8a4d89",
   "metadata": {},
   "outputs": [
    {
     "data": {
      "text/plain": [
       "0"
      ]
     },
     "execution_count": 37,
     "metadata": {},
     "output_type": "execute_result"
    }
   ],
   "source": [
    "mytuple.index('one')"
   ]
  },
  {
   "cell_type": "code",
   "execution_count": 38,
   "id": "7425f9f4-4c73-48e1-8932-af7deb096d21",
   "metadata": {},
   "outputs": [
    {
     "data": {
      "text/plain": [
       "3"
      ]
     },
     "execution_count": 38,
     "metadata": {},
     "output_type": "execute_result"
    }
   ],
   "source": [
    "mytuple.index('four')"
   ]
  },
  {
   "cell_type": "code",
   "execution_count": 39,
   "id": "99458856-18a5-4d92-a52a-85d631be62fb",
   "metadata": {},
   "outputs": [
    {
     "data": {
      "text/plain": [
       "('one', 'two', 'three', 'four')"
      ]
     },
     "execution_count": 39,
     "metadata": {},
     "output_type": "execute_result"
    }
   ],
   "source": [
    "mytuple"
   ]
  },
  {
   "cell_type": "code",
   "execution_count": 41,
   "id": "f8311ff8-a83f-44fe-9198-425e2822e249",
   "metadata": {},
   "outputs": [
    {
     "data": {
      "text/plain": [
       "('one', 'two', 'three', 'four', 'one', 'one', 'two', 'three')"
      ]
     },
     "execution_count": 41,
     "metadata": {},
     "output_type": "execute_result"
    }
   ],
   "source": [
    "mytuple1 = ('one', 'two', 'three', 'four', 'one', 'one','two', 'three')\n",
    "mytuple1"
   ]
  },
  {
   "cell_type": "code",
   "execution_count": 42,
   "id": "91d8b18a-c772-4086-9f1b-a495a7980d68",
   "metadata": {},
   "outputs": [
    {
     "data": {
      "text/plain": [
       "0"
      ]
     },
     "execution_count": 42,
     "metadata": {},
     "output_type": "execute_result"
    }
   ],
   "source": [
    "mytuple1.index('one')"
   ]
  },
  {
   "cell_type": "markdown",
   "id": "83fba011-7d74-41ab-867e-10f4fbf9ca1f",
   "metadata": {},
   "source": [
    "#sorting"
   ]
  },
  {
   "cell_type": "code",
   "execution_count": 43,
   "id": "d7125ffa-b01d-4e97-8cb0-7352145eb11b",
   "metadata": {},
   "outputs": [],
   "source": [
    "mytuple2 = (43,67,99,16,50,45)"
   ]
  },
  {
   "cell_type": "code",
   "execution_count": 44,
   "id": "295f5b66-a936-46aa-841c-4f0d0762c067",
   "metadata": {},
   "outputs": [
    {
     "data": {
      "text/plain": [
       "[16, 43, 45, 50, 67, 99]"
      ]
     },
     "execution_count": 44,
     "metadata": {},
     "output_type": "execute_result"
    }
   ],
   "source": [
    "sorted(mytuple2)"
   ]
  },
  {
   "cell_type": "code",
   "execution_count": 45,
   "id": "1941e214-fbe3-4c30-813f-6e56f09637fd",
   "metadata": {},
   "outputs": [
    {
     "data": {
      "text/plain": [
       "[99, 67, 50, 45, 43, 16]"
      ]
     },
     "execution_count": 45,
     "metadata": {},
     "output_type": "execute_result"
    }
   ],
   "source": [
    "sorted(mytuple2, reverse=True)"
   ]
  },
  {
   "cell_type": "code",
   "execution_count": null,
   "id": "95a746fe-8715-4841-9146-559ef5b8290e",
   "metadata": {},
   "outputs": [],
   "source": []
  }
 ],
 "metadata": {
  "kernelspec": {
   "display_name": "Python [conda env:base] *",
   "language": "python",
   "name": "conda-base-py"
  },
  "language_info": {
   "codemirror_mode": {
    "name": "ipython",
    "version": 3
   },
   "file_extension": ".py",
   "mimetype": "text/x-python",
   "name": "python",
   "nbconvert_exporter": "python",
   "pygments_lexer": "ipython3",
   "version": "3.12.7"
  }
 },
 "nbformat": 4,
 "nbformat_minor": 5
}
